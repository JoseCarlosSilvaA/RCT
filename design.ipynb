{
 "cells": [
  {
   "cell_type": "code",
   "execution_count": 299,
   "metadata": {},
   "outputs": [],
   "source": [
    "%reset -f"
   ]
  },
  {
   "cell_type": "code",
   "execution_count": 300,
   "metadata": {},
   "outputs": [],
   "source": [
    "import pandas as pd\n",
    "import numpy as np\n",
    "import matplotlib.pyplot as plt\n",
    "import seaborn as sns\n",
    "from scipy.stats import mstats\n",
    "\n",
    "sns.set_style(\"whitegrid\")"
   ]
  },
  {
   "cell_type": "markdown",
   "metadata": {},
   "source": [
    "## Define functions"
   ]
  },
  {
   "cell_type": "code",
   "execution_count": 301,
   "metadata": {},
   "outputs": [],
   "source": [
    "def generate_dataset(n_clients, mean_age=50, std_age=15, age_bounds=(15, 100), \n",
    "                     income_multiplier_range=(1000, 3000), income_bounds=(0, 300000), \n",
    "                     spending_multiplier_range=(0.1, 0.3), spending_bounds=(0, 70000), \n",
    "                     outlier_fraction=0.01, outlier_multiplier=1.5,\n",
    "                     gender_proportion=(0.5, 0.5), type_proportions=(0.9, 0.08, 0.02)):\n",
    "    \"\"\"\n",
    "    Generates a dataset with fake clients including demographic information.\n",
    "    \"\"\"\n",
    "    np.random.seed(42)\n",
    "\n",
    "    # Generate CLIENT_ID\n",
    "    client_ids = np.arange(1, n_clients + 1)\n",
    "\n",
    "    # Generate AGE with some outliers\n",
    "    ages = np.random.normal(mean_age, std_age, n_clients)\n",
    "    ages = np.clip(ages, *age_bounds)\n",
    "    outlier_ages = np.random.choice(n_clients, int(n_clients * outlier_fraction), replace=False)\n",
    "    ages[outlier_ages] += np.random.choice([-1, 1], len(outlier_ages)) * outlier_multiplier * std_age\n",
    "\n",
    "    # Generate INCOME, correlated with AGE\n",
    "    income_base = ages * np.random.uniform(*income_multiplier_range, n_clients)\n",
    "    income = np.clip(income_base + np.random.normal(0, income_bounds[1] / 10, n_clients), *income_bounds)\n",
    "    outlier_income = np.random.choice(n_clients, int(n_clients * outlier_fraction), replace=False)\n",
    "    income[outlier_income] *= outlier_multiplier\n",
    "\n",
    "    # Generate SPENDING, correlated with both AGE and INCOME\n",
    "    spending_base = income * np.random.uniform(*spending_multiplier_range, n_clients)\n",
    "    spending = np.clip(spending_base + np.random.normal(0, spending_bounds[1] / 10, n_clients), *spending_bounds)\n",
    "    outlier_spending = np.random.choice(n_clients, int(n_clients * outlier_fraction), replace=False)\n",
    "    spending[outlier_spending] *= outlier_multiplier\n",
    "\n",
    "    # Generate GENDER\n",
    "    genders = np.random.choice(['M', 'F'], size=n_clients, p=gender_proportion)\n",
    "\n",
    "    # Generate TYPE\n",
    "    types = np.random.choice(['A', 'B', 'C'], size=n_clients, p=type_proportions)\n",
    "\n",
    "    # Create the DataFrame\n",
    "    df = pd.DataFrame({\n",
    "        'CLIENT_ID': client_ids,\n",
    "        'AGE': np.round(ages, 2),\n",
    "        'INCOME': np.round(income, 2),\n",
    "        'SPENDING': np.round(spending, 2),\n",
    "        'GENDER': genders,\n",
    "        'TYPE': types\n",
    "    })\n",
    "\n",
    "    return df"
   ]
  },
  {
   "cell_type": "code",
   "execution_count": 302,
   "metadata": {},
   "outputs": [],
   "source": [
    "def visualize_distribution(data, column_name, bins='auto', title=None, xlabel=None, ylabel='Density'):\n",
    "    \"\"\"\n",
    "    Lets you visualize the distribution of a numeric variable\n",
    "    \"\"\"\n",
    "    # Set plot size for better visibility\n",
    "    plt.figure(figsize=(10, 6))\n",
    "    \n",
    "    # Set default titles and labels if not provided\n",
    "    if title is None:\n",
    "        title = f'Distribution of {column_name}'\n",
    "    if xlabel is None:\n",
    "        xlabel = column_name\n",
    "    \n",
    "    # Plot histogram and KDE\n",
    "    sns.histplot(data[column_name], bins=bins, kde=True, stat=\"density\", linewidth=0.5, alpha=0.7)\n",
    "    \n",
    "    # Set titles and labels\n",
    "    plt.title(title)\n",
    "    plt.xlabel(xlabel)\n",
    "    plt.ylabel(ylabel)\n",
    "    \n",
    "    # Show plot\n",
    "    plt.show()\n"
   ]
  },
  {
   "cell_type": "code",
   "execution_count": 303,
   "metadata": {},
   "outputs": [],
   "source": [
    "def visualize_categorical_proportion(data, column_name, title=None, xlabel=None, ylabel='Percentage'):\n",
    "    \"\"\"\n",
    "    Visualize the distribution of a categorical variable as percentages using a bar chart.\n",
    "    \"\"\"\n",
    "    # Calculate the percentages\n",
    "    percentage_data = (data[column_name].value_counts(normalize=True) * 100).reset_index()\n",
    "    percentage_data.columns = [column_name, 'Percentage']\n",
    "    \n",
    "    # Set plot size for better visibility\n",
    "    plt.figure(figsize=(8, 6))\n",
    "    \n",
    "    # Set default titles and labels if not provided\n",
    "    if title is None:\n",
    "        title = f'Percentage Distribution of {column_name}'\n",
    "    if xlabel is None:\n",
    "        xlabel = column_name\n",
    "    \n",
    "    # Create the bar plot using seaborn\n",
    "    sns.barplot(x=column_name, y='Percentage', data=percentage_data, palette='viridis', order=percentage_data[column_name])\n",
    "    \n",
    "    # Set titles and labels\n",
    "    plt.title(title)\n",
    "    plt.xlabel(xlabel)\n",
    "    plt.ylabel(ylabel)\n",
    "    \n",
    "    # Ensure the y-axis ticks represent percentages\n",
    "    plt.gca().yaxis.set_major_formatter(plt.matplotlib.ticker.PercentFormatter(decimals=0))\n",
    "    \n",
    "    # Show plot\n",
    "    plt.show()\n",
    "\n"
   ]
  },
  {
   "cell_type": "markdown",
   "metadata": {},
   "source": [
    "## Generate fake data"
   ]
  },
  {
   "cell_type": "code",
   "execution_count": 304,
   "metadata": {},
   "outputs": [
    {
     "data": {
      "text/html": [
       "<div>\n",
       "<style scoped>\n",
       "    .dataframe tbody tr th:only-of-type {\n",
       "        vertical-align: middle;\n",
       "    }\n",
       "\n",
       "    .dataframe tbody tr th {\n",
       "        vertical-align: top;\n",
       "    }\n",
       "\n",
       "    .dataframe thead th {\n",
       "        text-align: right;\n",
       "    }\n",
       "</style>\n",
       "<table border=\"1\" class=\"dataframe\">\n",
       "  <thead>\n",
       "    <tr style=\"text-align: right;\">\n",
       "      <th></th>\n",
       "      <th>CLIENT_ID</th>\n",
       "      <th>AGE</th>\n",
       "      <th>INCOME</th>\n",
       "      <th>SPENDING</th>\n",
       "      <th>GENDER</th>\n",
       "      <th>TYPE</th>\n",
       "    </tr>\n",
       "  </thead>\n",
       "  <tbody>\n",
       "    <tr>\n",
       "      <th>0</th>\n",
       "      <td>1</td>\n",
       "      <td>57.45</td>\n",
       "      <td>154620.42</td>\n",
       "      <td>29160.67</td>\n",
       "      <td>F</td>\n",
       "      <td>A</td>\n",
       "    </tr>\n",
       "    <tr>\n",
       "      <th>1</th>\n",
       "      <td>2</td>\n",
       "      <td>47.93</td>\n",
       "      <td>61916.66</td>\n",
       "      <td>8721.83</td>\n",
       "      <td>F</td>\n",
       "      <td>A</td>\n",
       "    </tr>\n",
       "    <tr>\n",
       "      <th>2</th>\n",
       "      <td>3</td>\n",
       "      <td>59.72</td>\n",
       "      <td>135786.09</td>\n",
       "      <td>28055.06</td>\n",
       "      <td>F</td>\n",
       "      <td>A</td>\n",
       "    </tr>\n",
       "    <tr>\n",
       "      <th>3</th>\n",
       "      <td>4</td>\n",
       "      <td>72.85</td>\n",
       "      <td>134581.88</td>\n",
       "      <td>40885.18</td>\n",
       "      <td>M</td>\n",
       "      <td>A</td>\n",
       "    </tr>\n",
       "    <tr>\n",
       "      <th>4</th>\n",
       "      <td>5</td>\n",
       "      <td>46.49</td>\n",
       "      <td>126064.41</td>\n",
       "      <td>17923.89</td>\n",
       "      <td>M</td>\n",
       "      <td>A</td>\n",
       "    </tr>\n",
       "  </tbody>\n",
       "</table>\n",
       "</div>"
      ],
      "text/plain": [
       "   CLIENT_ID    AGE     INCOME  SPENDING GENDER TYPE\n",
       "0          1  57.45  154620.42  29160.67      F    A\n",
       "1          2  47.93   61916.66   8721.83      F    A\n",
       "2          3  59.72  135786.09  28055.06      F    A\n",
       "3          4  72.85  134581.88  40885.18      M    A\n",
       "4          5  46.49  126064.41  17923.89      M    A"
      ]
     },
     "execution_count": 304,
     "metadata": {},
     "output_type": "execute_result"
    }
   ],
   "source": [
    "\n",
    "df = generate_dataset(n_clients=80000)\n",
    "df.head()"
   ]
  },
  {
   "cell_type": "markdown",
   "metadata": {},
   "source": [
    "## Visualize and winsorize variables"
   ]
  },
  {
   "cell_type": "markdown",
   "metadata": {},
   "source": [
    "### Age"
   ]
  },
  {
   "cell_type": "code",
   "execution_count": 305,
   "metadata": {},
   "outputs": [
    {
     "data": {
      "image/png": "[encoded data removed]",
      "text/plain": [
       "<Figure size 720x432 with 1 Axes>"
      ]
     },
     "metadata": {},
     "output_type": "display_data"
    }
   ],
   "source": [
    "visualize_distribution(df, 'AGE')"
   ]
  },
  {
   "cell_type": "code",
   "execution_count": 306,
   "metadata": {},
   "outputs": [
    {
     "data": {
      "text/plain": [
       "0.00     -7.50\n",
       "0.02     18.88\n",
       "0.99     85.37\n",
       "1.00    120.02\n",
       "Name: AGE, dtype: float64"
      ]
     },
     "execution_count": 306,
     "metadata": {},
     "output_type": "execute_result"
    }
   ],
   "source": [
    "df['AGE'].quantile([0,0.02,0.99,1])"
   ]
  },
  {
   "cell_type": "code",
   "execution_count": 307,
   "metadata": {},
   "outputs": [
    {
     "data": {
      "text/plain": [
       "0.00    18.88\n",
       "0.25    39.76\n",
       "0.50    50.08\n",
       "0.75    60.27\n",
       "1.00    85.37\n",
       "Name: AGE_WINSOR, dtype: float64"
      ]
     },
     "execution_count": 307,
     "metadata": {},
     "output_type": "execute_result"
    }
   ],
   "source": [
    "# Winsorize Age to deal with extreme values\n",
    "\n",
    "df = df.assign(AGE_WINSOR = mstats.winsorize(df['AGE'], limits=[0.02, 0.01]))\n",
    "df['AGE_WINSOR'].quantile([0,0.25,.5,.75,1])"
   ]
  },
  {
   "cell_type": "code",
   "execution_count": 308,
   "metadata": {},
   "outputs": [
    {
     "data": {
      "text/plain": [
       "40 to 50    20010\n",
       "19 to 40    20007\n",
       "50 to 60    19998\n",
       "60 to 85    19985\n",
       "Name: AGE_QUARTILES, dtype: int64"
      ]
     },
     "execution_count": 308,
     "metadata": {},
     "output_type": "execute_result"
    }
   ],
   "source": [
    "# Make categorical bins for stratification\n",
    "\n",
    "df['AGE_QUARTILES'] = pd.qcut(df['AGE_WINSOR'], 4, labels = ['19 to 40', '40 to 50', '50 to 60', '60 to 85'])\n",
    "df['AGE_QUARTILES'].value_counts()"
   ]
  },
  {
   "cell_type": "code",
   "execution_count": 309,
   "metadata": {},
   "outputs": [
    {
     "data": {
      "image/png": "[encoded data removed]",
      "text/plain": [
       "<Figure size 720x432 with 1 Axes>"
      ]
     },
     "metadata": {},
     "output_type": "display_data"
    }
   ],
   "source": [
    "visualize_distribution(df, 'AGE_WINSOR')"
   ]
  },
  {
   "cell_type": "markdown",
   "metadata": {},
   "source": [
    "### Income"
   ]
  },
  {
   "cell_type": "code",
   "execution_count": 310,
   "metadata": {},
   "outputs": [
    {
     "data": {
      "image/png": "[encoded data removed]",
      "text/plain": [
       "<Figure size 720x432 with 1 Axes>"
      ]
     },
     "metadata": {},
     "output_type": "display_data"
    }
   ],
   "source": [
    "visualize_distribution(df, 'INCOME')"
   ]
  },
  {
   "cell_type": "code",
   "execution_count": 311,
   "metadata": {},
   "outputs": [
    {
     "data": {
      "text/plain": [
       "0.0000         0.000000\n",
       "0.0200      3714.962200\n",
       "0.9999    352157.114693\n",
       "1.0000    450000.000000\n",
       "Name: INCOME, dtype: float64"
      ]
     },
     "execution_count": 311,
     "metadata": {},
     "output_type": "execute_result"
    }
   ],
   "source": [
    "df['INCOME'].quantile([0,0.02,0.9999,1])"
   ]
  },
  {
   "cell_type": "code",
   "execution_count": 312,
   "metadata": {},
   "outputs": [
    {
     "data": {
      "text/plain": [
       "0.00         0.0000\n",
       "0.25     63352.0425\n",
       "0.50     96955.9500\n",
       "0.75    134329.1750\n",
       "1.00    352154.9300\n",
       "Name: INCOME_WINSOR, dtype: float64"
      ]
     },
     "execution_count": 312,
     "metadata": {},
     "output_type": "execute_result"
    }
   ],
   "source": [
    "# Winsorize Income to deal with extreme values\n",
    "\n",
    "df = df.assign(INCOME_WINSOR = mstats.winsorize(df['INCOME'], limits=[0, 0.0001]))\n",
    "df['INCOME_WINSOR'].quantile([0,0.25,.5,.75,1])"
   ]
  },
  {
   "cell_type": "code",
   "execution_count": 313,
   "metadata": {},
   "outputs": [
    {
     "data": {
      "image/png": "[encoded data removed]",
      "text/plain": [
       "<Figure size 720x432 with 1 Axes>"
      ]
     },
     "metadata": {},
     "output_type": "display_data"
    }
   ],
   "source": [
    "visualize_distribution(df, 'INCOME_WINSOR')"
   ]
  },
  {
   "cell_type": "code",
   "execution_count": 314,
   "metadata": {},
   "outputs": [
    {
     "data": {
      "text/plain": [
       "134,329 to 352,155    20000\n",
       "96,956 to 134,329     20000\n",
       "63,352 to 96,956      20000\n",
       "0 to 63,352           20000\n",
       "Name: INCOME_QUARTILES, dtype: int64"
      ]
     },
     "execution_count": 314,
     "metadata": {},
     "output_type": "execute_result"
    }
   ],
   "source": [
    "# Make categorical bins for stratification\n",
    "\n",
    "df['INCOME_QUARTILES'] = pd.qcut(df['INCOME_WINSOR'], 4, labels = ['0 to 63,352', '63,352 to 96,956', '96,956 to 134,329', '134,329 to 352,155'])\n",
    "df['INCOME_QUARTILES'].value_counts()"
   ]
  },
  {
   "cell_type": "markdown",
   "metadata": {},
   "source": [
    "### Spending"
   ]
  },
  {
   "cell_type": "code",
   "execution_count": 315,
   "metadata": {},
   "outputs": [
    {
     "data": {
      "image/png": "[encoded data removed]",
      "text/plain": [
       "<Figure size 720x432 with 1 Axes>"
      ]
     },
     "metadata": {},
     "output_type": "display_data"
    }
   ],
   "source": [
    "visualize_distribution(df, 'SPENDING')"
   ]
  },
  {
   "cell_type": "code",
   "execution_count": 316,
   "metadata": {},
   "outputs": [
    {
     "data": {
      "text/plain": [
       "0.000         0.0\n",
       "0.020         0.0\n",
       "0.999     70000.0\n",
       "1.000    105000.0\n",
       "Name: SPENDING, dtype: float64"
      ]
     },
     "execution_count": 316,
     "metadata": {},
     "output_type": "execute_result"
    }
   ],
   "source": [
    "df['SPENDING'].quantile([0,0.02,0.999,1])"
   ]
  },
  {
   "cell_type": "code",
   "execution_count": 317,
   "metadata": {},
   "outputs": [
    {
     "data": {
      "text/plain": [
       "0.00        0.00\n",
       "0.25    10263.54\n",
       "0.50    18793.40\n",
       "0.75    28786.02\n",
       "1.00    70000.00\n",
       "Name: SPENDING_WINSOR, dtype: float64"
      ]
     },
     "execution_count": 317,
     "metadata": {},
     "output_type": "execute_result"
    }
   ],
   "source": [
    "# Winsorize SPENDING to deal with extreme values\n",
    "\n",
    "df = df.assign(SPENDING_WINSOR = mstats.winsorize(df['SPENDING'], limits=[0, 0.001]))\n",
    "df['SPENDING_WINSOR'].quantile([0,0.25,.5,.75,1])"
   ]
  },
  {
   "cell_type": "code",
   "execution_count": 318,
   "metadata": {},
   "outputs": [
    {
     "data": {
      "text/plain": [
       "28,786 to 70,000    20000\n",
       "18,793 to 28,786    20000\n",
       "10,264 to 18,793    20000\n",
       "0 to 10,264         20000\n",
       "Name: SPENDING_QUARTILES, dtype: int64"
      ]
     },
     "execution_count": 318,
     "metadata": {},
     "output_type": "execute_result"
    }
   ],
   "source": [
    "# Make categorical bins for stratification\n",
    "\n",
    "df['SPENDING_QUARTILES'] = pd.qcut(df['SPENDING_WINSOR'], 4, labels = ['0 to 10,264', '10,264 to 18,793', '18,793 to 28,786', '28,786 to 70,000'])\n",
    "df['SPENDING_QUARTILES'].value_counts()"
   ]
  },
  {
   "cell_type": "markdown",
   "metadata": {},
   "source": [
    "### Gender"
   ]
  },
  {
   "cell_type": "code",
   "execution_count": 319,
   "metadata": {},
   "outputs": [
    {
     "data": {
      "image/png": "[encoded data removed]",
      "text/plain": [
       "<Figure size 576x432 with 1 Axes>"
      ]
     },
     "metadata": {},
     "output_type": "display_data"
    }
   ],
   "source": [
    "visualize_categorical_proportion(df, \"GENDER\")"
   ]
  },
  {
   "cell_type": "markdown",
   "metadata": {},
   "source": [
    "### Type"
   ]
  },
  {
   "cell_type": "code",
   "execution_count": 320,
   "metadata": {},
   "outputs": [
    {
     "data": {
      "image/png": "[encoded data removed]",
      "text/plain": [
       "<Figure size 576x432 with 1 Axes>"
      ]
     },
     "metadata": {},
     "output_type": "display_data"
    }
   ],
   "source": [
    "visualize_categorical_proportion(df, 'TYPE')"
   ]
  },
  {
   "cell_type": "markdown",
   "metadata": {},
   "source": [
    "### Create strata and assign treatment group"
   ]
  },
  {
   "cell_type": "code",
   "execution_count": 321,
   "metadata": {},
   "outputs": [],
   "source": [
    "# Create strata\n",
    "\n",
    "df_sorted = df.sort_values(by=['TYPE', 'AGE_QUARTILES', 'INCOME_QUARTILES', 'SPENDING_QUARTILES'])\n",
    "df_sorted['stratum_id'], _ = pd.factorize(df_sorted[['TYPE', 'AGE_QUARTILES', 'INCOME_QUARTILES', 'SPENDING_QUARTILES']].apply(tuple, axis=1))\n"
   ]
  },
  {
   "cell_type": "code",
   "execution_count": 322,
   "metadata": {},
   "outputs": [
    {
     "data": {
      "text/plain": [
       "63     6276\n",
       "0      6202\n",
       "47     3278\n",
       "16     2691\n",
       "1      2456\n",
       "       ... \n",
       "174       1\n",
       "153       1\n",
       "140       1\n",
       "76        1\n",
       "99        1\n",
       "Name: stratum_id, Length: 187, dtype: int64"
      ]
     },
     "execution_count": 322,
     "metadata": {},
     "output_type": "execute_result"
    }
   ],
   "source": [
    "strata_counts = df_sorted['stratum_id'].value_counts()\n",
    "strata_counts # there are 186 strata"
   ]
  },
  {
   "cell_type": "code",
   "execution_count": 323,
   "metadata": {},
   "outputs": [
    {
     "data": {
      "text/plain": [
       "5"
      ]
     },
     "execution_count": 323,
     "metadata": {},
     "output_type": "execute_result"
    }
   ],
   "source": [
    "(strata_counts == 1).sum() # There are 5 strata with only one client"
   ]
  },
  {
   "cell_type": "code",
   "execution_count": 324,
   "metadata": {},
   "outputs": [
    {
     "data": {
      "text/html": [
       "<div>\n",
       "<style scoped>\n",
       "    .dataframe tbody tr th:only-of-type {\n",
       "        vertical-align: middle;\n",
       "    }\n",
       "\n",
       "    .dataframe tbody tr th {\n",
       "        vertical-align: top;\n",
       "    }\n",
       "\n",
       "    .dataframe thead th {\n",
       "        text-align: right;\n",
       "    }\n",
       "</style>\n",
       "<table border=\"1\" class=\"dataframe\">\n",
       "  <thead>\n",
       "    <tr style=\"text-align: right;\">\n",
       "      <th></th>\n",
       "      <th>stratum_id</th>\n",
       "      <th>stratum_count</th>\n",
       "    </tr>\n",
       "  </thead>\n",
       "  <tbody>\n",
       "    <tr>\n",
       "      <th>0</th>\n",
       "      <td>63</td>\n",
       "      <td>6276</td>\n",
       "    </tr>\n",
       "    <tr>\n",
       "      <th>1</th>\n",
       "      <td>0</td>\n",
       "      <td>6202</td>\n",
       "    </tr>\n",
       "    <tr>\n",
       "      <th>2</th>\n",
       "      <td>47</td>\n",
       "      <td>3278</td>\n",
       "    </tr>\n",
       "    <tr>\n",
       "      <th>3</th>\n",
       "      <td>16</td>\n",
       "      <td>2691</td>\n",
       "    </tr>\n",
       "    <tr>\n",
       "      <th>4</th>\n",
       "      <td>1</td>\n",
       "      <td>2456</td>\n",
       "    </tr>\n",
       "    <tr>\n",
       "      <th>...</th>\n",
       "      <td>...</td>\n",
       "      <td>...</td>\n",
       "    </tr>\n",
       "    <tr>\n",
       "      <th>182</th>\n",
       "      <td>174</td>\n",
       "      <td>1</td>\n",
       "    </tr>\n",
       "    <tr>\n",
       "      <th>183</th>\n",
       "      <td>153</td>\n",
       "      <td>1</td>\n",
       "    </tr>\n",
       "    <tr>\n",
       "      <th>184</th>\n",
       "      <td>140</td>\n",
       "      <td>1</td>\n",
       "    </tr>\n",
       "    <tr>\n",
       "      <th>185</th>\n",
       "      <td>76</td>\n",
       "      <td>1</td>\n",
       "    </tr>\n",
       "    <tr>\n",
       "      <th>186</th>\n",
       "      <td>99</td>\n",
       "      <td>1</td>\n",
       "    </tr>\n",
       "  </tbody>\n",
       "</table>\n",
       "<p>187 rows × 2 columns</p>\n",
       "</div>"
      ],
      "text/plain": [
       "     stratum_id  stratum_count\n",
       "0            63           6276\n",
       "1             0           6202\n",
       "2            47           3278\n",
       "3            16           2691\n",
       "4             1           2456\n",
       "..          ...            ...\n",
       "182         174              1\n",
       "183         153              1\n",
       "184         140              1\n",
       "185          76              1\n",
       "186          99              1\n",
       "\n",
       "[187 rows x 2 columns]"
      ]
     },
     "execution_count": 324,
     "metadata": {},
     "output_type": "execute_result"
    }
   ],
   "source": [
    "# Turn strata_counts into a dataframe\n",
    "\n",
    "strata_counts_df = strata_counts.reset_index()\n",
    "strata_counts_df.columns = ['stratum_id', 'stratum_count']\n",
    "strata_counts_df"
   ]
  },
  {
   "cell_type": "code",
   "execution_count": 325,
   "metadata": {},
   "outputs": [
    {
     "data": {
      "text/html": [
       "<div>\n",
       "<style scoped>\n",
       "    .dataframe tbody tr th:only-of-type {\n",
       "        vertical-align: middle;\n",
       "    }\n",
       "\n",
       "    .dataframe tbody tr th {\n",
       "        vertical-align: top;\n",
       "    }\n",
       "\n",
       "    .dataframe thead th {\n",
       "        text-align: right;\n",
       "    }\n",
       "</style>\n",
       "<table border=\"1\" class=\"dataframe\">\n",
       "  <thead>\n",
       "    <tr style=\"text-align: right;\">\n",
       "      <th></th>\n",
       "      <th>stratum_id</th>\n",
       "      <th>stratum_count</th>\n",
       "      <th>rows_to_remove</th>\n",
       "    </tr>\n",
       "  </thead>\n",
       "  <tbody>\n",
       "    <tr>\n",
       "      <th>0</th>\n",
       "      <td>63</td>\n",
       "      <td>6276</td>\n",
       "      <td>4</td>\n",
       "    </tr>\n",
       "    <tr>\n",
       "      <th>1</th>\n",
       "      <td>0</td>\n",
       "      <td>6202</td>\n",
       "      <td>2</td>\n",
       "    </tr>\n",
       "    <tr>\n",
       "      <th>2</th>\n",
       "      <td>47</td>\n",
       "      <td>3278</td>\n",
       "      <td>6</td>\n",
       "    </tr>\n",
       "    <tr>\n",
       "      <th>3</th>\n",
       "      <td>16</td>\n",
       "      <td>2691</td>\n",
       "      <td>3</td>\n",
       "    </tr>\n",
       "    <tr>\n",
       "      <th>4</th>\n",
       "      <td>1</td>\n",
       "      <td>2456</td>\n",
       "      <td>0</td>\n",
       "    </tr>\n",
       "    <tr>\n",
       "      <th>...</th>\n",
       "      <td>...</td>\n",
       "      <td>...</td>\n",
       "      <td>...</td>\n",
       "    </tr>\n",
       "    <tr>\n",
       "      <th>182</th>\n",
       "      <td>174</td>\n",
       "      <td>1</td>\n",
       "      <td>1</td>\n",
       "    </tr>\n",
       "    <tr>\n",
       "      <th>183</th>\n",
       "      <td>153</td>\n",
       "      <td>1</td>\n",
       "      <td>1</td>\n",
       "    </tr>\n",
       "    <tr>\n",
       "      <th>184</th>\n",
       "      <td>140</td>\n",
       "      <td>1</td>\n",
       "      <td>1</td>\n",
       "    </tr>\n",
       "    <tr>\n",
       "      <th>185</th>\n",
       "      <td>76</td>\n",
       "      <td>1</td>\n",
       "      <td>1</td>\n",
       "    </tr>\n",
       "    <tr>\n",
       "      <th>186</th>\n",
       "      <td>99</td>\n",
       "      <td>1</td>\n",
       "      <td>1</td>\n",
       "    </tr>\n",
       "  </tbody>\n",
       "</table>\n",
       "<p>187 rows × 3 columns</p>\n",
       "</div>"
      ],
      "text/plain": [
       "     stratum_id  stratum_count  rows_to_remove\n",
       "0            63           6276               4\n",
       "1             0           6202               2\n",
       "2            47           3278               6\n",
       "3            16           2691               3\n",
       "4             1           2456               0\n",
       "..          ...            ...             ...\n",
       "182         174              1               1\n",
       "183         153              1               1\n",
       "184         140              1               1\n",
       "185          76              1               1\n",
       "186          99              1               1\n",
       "\n",
       "[187 rows x 3 columns]"
      ]
     },
     "execution_count": 325,
     "metadata": {},
     "output_type": "execute_result"
    }
   ],
   "source": [
    "# Add a column showing how many rows one would have to remove so that the remaining number of rows are divisible by 8\n",
    "\n",
    "strata_counts_df['rows_to_remove'] = strata_counts_df['stratum_count'] % 8\n",
    "\n",
    "strata_counts_df"
   ]
  },
  {
   "cell_type": "code",
   "execution_count": 326,
   "metadata": {},
   "outputs": [
    {
     "data": {
      "text/plain": [
       "'0.78%'"
      ]
     },
     "execution_count": 326,
     "metadata": {},
     "output_type": "execute_result"
    }
   ],
   "source": [
    "# Percentage of missfits: 0.78%\n",
    "str(100 * strata_counts_df['rows_to_remove'].sum() / strata_counts_df['stratum_count'].sum()) + '%'"
   ]
  },
  {
   "cell_type": "code",
   "execution_count": 327,
   "metadata": {},
   "outputs": [],
   "source": [
    "df_sorted = df_sorted.merge(strata_counts_df, how = 'left', on = 'stratum_id')\n"
   ]
  },
  {
   "cell_type": "code",
   "execution_count": 328,
   "metadata": {},
   "outputs": [
    {
     "data": {
      "text/plain": [
       "Index(['CLIENT_ID', 'AGE', 'INCOME', 'SPENDING', 'GENDER', 'TYPE',\n",
       "       'AGE_WINSOR', 'AGE_QUARTILES', 'INCOME_WINSOR', 'INCOME_QUARTILES',\n",
       "       'SPENDING_WINSOR', 'SPENDING_QUARTILES', 'stratum_id', 'stratum_count',\n",
       "       'rows_to_remove'],\n",
       "      dtype='object')"
      ]
     },
     "execution_count": 328,
     "metadata": {},
     "output_type": "execute_result"
    }
   ],
   "source": [
    "df_sorted.columns"
   ]
  },
  {
   "cell_type": "code",
   "execution_count": 329,
   "metadata": {},
   "outputs": [
    {
     "data": {
      "text/html": [
       "<div>\n",
       "<style scoped>\n",
       "    .dataframe tbody tr th:only-of-type {\n",
       "        vertical-align: middle;\n",
       "    }\n",
       "\n",
       "    .dataframe tbody tr th {\n",
       "        vertical-align: top;\n",
       "    }\n",
       "\n",
       "    .dataframe thead th {\n",
       "        text-align: right;\n",
       "    }\n",
       "</style>\n",
       "<table border=\"1\" class=\"dataframe\">\n",
       "  <thead>\n",
       "    <tr style=\"text-align: right;\">\n",
       "      <th></th>\n",
       "      <th>CLIENT_ID</th>\n",
       "      <th>AGE</th>\n",
       "      <th>INCOME</th>\n",
       "      <th>SPENDING</th>\n",
       "      <th>GENDER</th>\n",
       "      <th>TYPE</th>\n",
       "      <th>AGE_WINSOR</th>\n",
       "      <th>AGE_QUARTILES</th>\n",
       "      <th>INCOME_WINSOR</th>\n",
       "      <th>INCOME_QUARTILES</th>\n",
       "      <th>SPENDING_WINSOR</th>\n",
       "      <th>SPENDING_QUARTILES</th>\n",
       "      <th>stratum_id</th>\n",
       "      <th>stratum_count</th>\n",
       "      <th>rows_to_remove</th>\n",
       "      <th>missfits</th>\n",
       "    </tr>\n",
       "  </thead>\n",
       "  <tbody>\n",
       "    <tr>\n",
       "      <th>0</th>\n",
       "      <td>14</td>\n",
       "      <td>21.30</td>\n",
       "      <td>59168.16</td>\n",
       "      <td>2269.55</td>\n",
       "      <td>M</td>\n",
       "      <td>A</td>\n",
       "      <td>21.30</td>\n",
       "      <td>19 to 40</td>\n",
       "      <td>59168.16</td>\n",
       "      <td>0 to 63,352</td>\n",
       "      <td>2269.55</td>\n",
       "      <td>0 to 10,264</td>\n",
       "      <td>0</td>\n",
       "      <td>6202</td>\n",
       "      <td>2</td>\n",
       "      <td>0</td>\n",
       "    </tr>\n",
       "    <tr>\n",
       "      <th>1</th>\n",
       "      <td>50</td>\n",
       "      <td>23.55</td>\n",
       "      <td>23926.23</td>\n",
       "      <td>0.00</td>\n",
       "      <td>M</td>\n",
       "      <td>A</td>\n",
       "      <td>23.55</td>\n",
       "      <td>19 to 40</td>\n",
       "      <td>23926.23</td>\n",
       "      <td>0 to 63,352</td>\n",
       "      <td>0.00</td>\n",
       "      <td>0 to 10,264</td>\n",
       "      <td>0</td>\n",
       "      <td>6202</td>\n",
       "      <td>2</td>\n",
       "      <td>0</td>\n",
       "    </tr>\n",
       "    <tr>\n",
       "      <th>2</th>\n",
       "      <td>63</td>\n",
       "      <td>33.40</td>\n",
       "      <td>4533.97</td>\n",
       "      <td>8755.71</td>\n",
       "      <td>M</td>\n",
       "      <td>A</td>\n",
       "      <td>33.40</td>\n",
       "      <td>19 to 40</td>\n",
       "      <td>4533.97</td>\n",
       "      <td>0 to 63,352</td>\n",
       "      <td>8755.71</td>\n",
       "      <td>0 to 10,264</td>\n",
       "      <td>0</td>\n",
       "      <td>6202</td>\n",
       "      <td>2</td>\n",
       "      <td>0</td>\n",
       "    </tr>\n",
       "    <tr>\n",
       "      <th>3</th>\n",
       "      <td>75</td>\n",
       "      <td>15.00</td>\n",
       "      <td>25863.39</td>\n",
       "      <td>6696.29</td>\n",
       "      <td>M</td>\n",
       "      <td>A</td>\n",
       "      <td>18.88</td>\n",
       "      <td>19 to 40</td>\n",
       "      <td>25863.39</td>\n",
       "      <td>0 to 63,352</td>\n",
       "      <td>6696.29</td>\n",
       "      <td>0 to 10,264</td>\n",
       "      <td>0</td>\n",
       "      <td>6202</td>\n",
       "      <td>2</td>\n",
       "      <td>0</td>\n",
       "    </tr>\n",
       "    <tr>\n",
       "      <th>4</th>\n",
       "      <td>80</td>\n",
       "      <td>20.19</td>\n",
       "      <td>0.00</td>\n",
       "      <td>0.00</td>\n",
       "      <td>M</td>\n",
       "      <td>A</td>\n",
       "      <td>20.19</td>\n",
       "      <td>19 to 40</td>\n",
       "      <td>0.00</td>\n",
       "      <td>0 to 63,352</td>\n",
       "      <td>0.00</td>\n",
       "      <td>0 to 10,264</td>\n",
       "      <td>0</td>\n",
       "      <td>6202</td>\n",
       "      <td>2</td>\n",
       "      <td>0</td>\n",
       "    </tr>\n",
       "    <tr>\n",
       "      <th>...</th>\n",
       "      <td>...</td>\n",
       "      <td>...</td>\n",
       "      <td>...</td>\n",
       "      <td>...</td>\n",
       "      <td>...</td>\n",
       "      <td>...</td>\n",
       "      <td>...</td>\n",
       "      <td>...</td>\n",
       "      <td>...</td>\n",
       "      <td>...</td>\n",
       "      <td>...</td>\n",
       "      <td>...</td>\n",
       "      <td>...</td>\n",
       "      <td>...</td>\n",
       "      <td>...</td>\n",
       "      <td>...</td>\n",
       "    </tr>\n",
       "    <tr>\n",
       "      <th>79995</th>\n",
       "      <td>74757</td>\n",
       "      <td>62.71</td>\n",
       "      <td>200771.88</td>\n",
       "      <td>35040.19</td>\n",
       "      <td>M</td>\n",
       "      <td>C</td>\n",
       "      <td>62.71</td>\n",
       "      <td>60 to 85</td>\n",
       "      <td>200771.88</td>\n",
       "      <td>134,329 to 352,155</td>\n",
       "      <td>35040.19</td>\n",
       "      <td>28,786 to 70,000</td>\n",
       "      <td>186</td>\n",
       "      <td>118</td>\n",
       "      <td>6</td>\n",
       "      <td>0</td>\n",
       "    </tr>\n",
       "    <tr>\n",
       "      <th>79996</th>\n",
       "      <td>78129</td>\n",
       "      <td>82.80</td>\n",
       "      <td>219176.68</td>\n",
       "      <td>59164.44</td>\n",
       "      <td>M</td>\n",
       "      <td>C</td>\n",
       "      <td>82.80</td>\n",
       "      <td>60 to 85</td>\n",
       "      <td>219176.68</td>\n",
       "      <td>134,329 to 352,155</td>\n",
       "      <td>59164.44</td>\n",
       "      <td>28,786 to 70,000</td>\n",
       "      <td>186</td>\n",
       "      <td>118</td>\n",
       "      <td>6</td>\n",
       "      <td>0</td>\n",
       "    </tr>\n",
       "    <tr>\n",
       "      <th>79997</th>\n",
       "      <td>78285</td>\n",
       "      <td>77.21</td>\n",
       "      <td>166380.48</td>\n",
       "      <td>34051.12</td>\n",
       "      <td>M</td>\n",
       "      <td>C</td>\n",
       "      <td>77.21</td>\n",
       "      <td>60 to 85</td>\n",
       "      <td>166380.48</td>\n",
       "      <td>134,329 to 352,155</td>\n",
       "      <td>34051.12</td>\n",
       "      <td>28,786 to 70,000</td>\n",
       "      <td>186</td>\n",
       "      <td>118</td>\n",
       "      <td>6</td>\n",
       "      <td>0</td>\n",
       "    </tr>\n",
       "    <tr>\n",
       "      <th>79998</th>\n",
       "      <td>78437</td>\n",
       "      <td>70.29</td>\n",
       "      <td>277962.20</td>\n",
       "      <td>56441.10</td>\n",
       "      <td>F</td>\n",
       "      <td>C</td>\n",
       "      <td>70.29</td>\n",
       "      <td>60 to 85</td>\n",
       "      <td>277962.20</td>\n",
       "      <td>134,329 to 352,155</td>\n",
       "      <td>56441.10</td>\n",
       "      <td>28,786 to 70,000</td>\n",
       "      <td>186</td>\n",
       "      <td>118</td>\n",
       "      <td>6</td>\n",
       "      <td>0</td>\n",
       "    </tr>\n",
       "    <tr>\n",
       "      <th>79999</th>\n",
       "      <td>79420</td>\n",
       "      <td>67.42</td>\n",
       "      <td>172006.50</td>\n",
       "      <td>40111.58</td>\n",
       "      <td>M</td>\n",
       "      <td>C</td>\n",
       "      <td>67.42</td>\n",
       "      <td>60 to 85</td>\n",
       "      <td>172006.50</td>\n",
       "      <td>134,329 to 352,155</td>\n",
       "      <td>40111.58</td>\n",
       "      <td>28,786 to 70,000</td>\n",
       "      <td>186</td>\n",
       "      <td>118</td>\n",
       "      <td>6</td>\n",
       "      <td>0</td>\n",
       "    </tr>\n",
       "  </tbody>\n",
       "</table>\n",
       "<p>80000 rows × 16 columns</p>\n",
       "</div>"
      ],
      "text/plain": [
       "       CLIENT_ID    AGE     INCOME  SPENDING GENDER TYPE  AGE_WINSOR  \\\n",
       "0             14  21.30   59168.16   2269.55      M    A       21.30   \n",
       "1             50  23.55   23926.23      0.00      M    A       23.55   \n",
       "2             63  33.40    4533.97   8755.71      M    A       33.40   \n",
       "3             75  15.00   25863.39   6696.29      M    A       18.88   \n",
       "4             80  20.19       0.00      0.00      M    A       20.19   \n",
       "...          ...    ...        ...       ...    ...  ...         ...   \n",
       "79995      74757  62.71  200771.88  35040.19      M    C       62.71   \n",
       "79996      78129  82.80  219176.68  59164.44      M    C       82.80   \n",
       "79997      78285  77.21  166380.48  34051.12      M    C       77.21   \n",
       "79998      78437  70.29  277962.20  56441.10      F    C       70.29   \n",
       "79999      79420  67.42  172006.50  40111.58      M    C       67.42   \n",
       "\n",
       "      AGE_QUARTILES  INCOME_WINSOR    INCOME_QUARTILES  SPENDING_WINSOR  \\\n",
       "0          19 to 40       59168.16         0 to 63,352          2269.55   \n",
       "1          19 to 40       23926.23         0 to 63,352             0.00   \n",
       "2          19 to 40        4533.97         0 to 63,352          8755.71   \n",
       "3          19 to 40       25863.39         0 to 63,352          6696.29   \n",
       "4          19 to 40           0.00         0 to 63,352             0.00   \n",
       "...             ...            ...                 ...              ...   \n",
       "79995      60 to 85      200771.88  134,329 to 352,155         35040.19   \n",
       "79996      60 to 85      219176.68  134,329 to 352,155         59164.44   \n",
       "79997      60 to 85      166380.48  134,329 to 352,155         34051.12   \n",
       "79998      60 to 85      277962.20  134,329 to 352,155         56441.10   \n",
       "79999      60 to 85      172006.50  134,329 to 352,155         40111.58   \n",
       "\n",
       "      SPENDING_QUARTILES  stratum_id  stratum_count  rows_to_remove  missfits  \n",
       "0            0 to 10,264           0           6202               2         0  \n",
       "1            0 to 10,264           0           6202               2         0  \n",
       "2            0 to 10,264           0           6202               2         0  \n",
       "3            0 to 10,264           0           6202               2         0  \n",
       "4            0 to 10,264           0           6202               2         0  \n",
       "...                  ...         ...            ...             ...       ...  \n",
       "79995   28,786 to 70,000         186            118               6         0  \n",
       "79996   28,786 to 70,000         186            118               6         0  \n",
       "79997   28,786 to 70,000         186            118               6         0  \n",
       "79998   28,786 to 70,000         186            118               6         0  \n",
       "79999   28,786 to 70,000         186            118               6         0  \n",
       "\n",
       "[80000 rows x 16 columns]"
      ]
     },
     "execution_count": 329,
     "metadata": {},
     "output_type": "execute_result"
    }
   ],
   "source": [
    "# Create a missfits column\n",
    "\n",
    "df_sorted['missfits'] = 0\n",
    "\n",
    "# Function to apply on each group\n",
    "def mark_missfits(group):\n",
    "    rows_to_remove = group['rows_to_remove'].iloc[0]\n",
    "    if rows_to_remove == 0 or len(group) < rows_to_remove:\n",
    "        return group\n",
    "    sample_indices = group.sample(n=rows_to_remove).index\n",
    "    group.loc[sample_indices, 'missfits'] = 1\n",
    "    return group\n",
    "\n",
    "# Apply the function to each group\n",
    "df_sorted = df_sorted.groupby('stratum_id').apply(mark_missfits).reset_index(drop=True)\n",
    "df_sorted"
   ]
  },
  {
   "cell_type": "code",
   "execution_count": 330,
   "metadata": {},
   "outputs": [
    {
     "data": {
      "text/plain": [
       "624"
      ]
     },
     "execution_count": 330,
     "metadata": {},
     "output_type": "execute_result"
    }
   ],
   "source": [
    "df_sorted['missfits'].sum() "
   ]
  },
  {
   "cell_type": "code",
   "execution_count": 331,
   "metadata": {},
   "outputs": [],
   "source": [
    "# Store missfits\n",
    "\n",
    "df_missfits = df_sorted[df_sorted['missfits'] == 1]"
   ]
  },
  {
   "cell_type": "code",
   "execution_count": 332,
   "metadata": {},
   "outputs": [],
   "source": [
    "# Remove missfits for random assignment to control and treatment groups\n",
    "df_sorted = df_sorted[df_sorted['missfits'] == 0]"
   ]
  },
  {
   "cell_type": "code",
   "execution_count": 333,
   "metadata": {},
   "outputs": [],
   "source": [
    "# Function to apply to each group\n",
    "def mark_control(group):\n",
    "    rows_to_sample = int(6 * (group['stratum_count'].iloc[0] - group['rows_to_remove'].iloc[0]) / 8)\n",
    "    sampled_indices = group.sample(n=rows_to_sample, replace=False).index\n",
    "    group['control'] = 0  \n",
    "    group.loc[sampled_indices, 'control'] = 1  # Mark sampled rows with 1\n",
    "    return group\n",
    "\n",
    "# Apply the function to each group\n",
    "df_sorted = df_sorted.groupby('stratum_id').apply(mark_control)"
   ]
  },
  {
   "cell_type": "code",
   "execution_count": 334,
   "metadata": {},
   "outputs": [],
   "source": [
    "# Store control group and remove it from df_sorted\n",
    "\n",
    "control = df_sorted[df_sorted['control'] == 1]\n",
    "df_sorted = df_sorted[df_sorted['control'] == 0]"
   ]
  },
  {
   "cell_type": "code",
   "execution_count": 335,
   "metadata": {},
   "outputs": [],
   "source": [
    "# Assign treatment groups \n",
    "# Function to apply to each group\n",
    "def mark_treat(group):\n",
    "    # Calculate half of the rows to sample\n",
    "    rows_to_sample = len(group) // 2  \n",
    "    sampled_indices = group.sample(n=rows_to_sample, replace=False).index\n",
    "    group['treat'] = 2  \n",
    "    group.loc[sampled_indices, 'treat'] = 1  \n",
    "    return group\n",
    "\n",
    "# Apply the function to each group\n",
    "df_sorted = df_sorted.groupby('stratum_count').apply(mark_treat)"
   ]
  },
  {
   "cell_type": "code",
   "execution_count": 336,
   "metadata": {},
   "outputs": [
    {
     "name": "stderr",
     "output_type": "stream",
     "text": [
      "/Applications/anaconda3/lib/python3.8/site-packages/pandas/core/indexing.py:1596: SettingWithCopyWarning: \n",
      "A value is trying to be set on a copy of a slice from a DataFrame.\n",
      "Try using .loc[row_indexer,col_indexer] = value instead\n",
      "\n",
      "See the caveats in the documentation: https://pandas.pydata.org/pandas-docs/stable/user_guide/indexing.html#returning-a-view-versus-a-copy\n",
      "  self.obj[key] = _infer_fill_value(value)\n",
      "/Applications/anaconda3/lib/python3.8/site-packages/pandas/core/indexing.py:1765: SettingWithCopyWarning: \n",
      "A value is trying to be set on a copy of a slice from a DataFrame.\n",
      "Try using .loc[row_indexer,col_indexer] = value instead\n",
      "\n",
      "See the caveats in the documentation: https://pandas.pydata.org/pandas-docs/stable/user_guide/indexing.html#returning-a-view-versus-a-copy\n",
      "  isetter(loc, value)\n"
     ]
    },
    {
     "data": {
      "text/plain": [
       "0    468\n",
       "2     78\n",
       "1     78\n",
       "Name: treat, dtype: int64"
      ]
     },
     "execution_count": 336,
     "metadata": {},
     "output_type": "execute_result"
    }
   ],
   "source": [
    "# Assign missfits\n",
    "# I am assuming a strong budget constraint of 10,000 clients per treatment group\n",
    "\n",
    "# treatment['treat'].value_counts() I have 78 per treatment left\n",
    "# df_missfits 624 missfits left\n",
    "\n",
    "# Initialize 'treat' column safely\n",
    "df_missfits.loc[:, 'treat'] = 0\n",
    "\n",
    "# Assuming df_missfits has at least 156 rows\n",
    "if len(df_missfits) >= 156:\n",
    "    indices = np.random.choice(df_missfits.index, size=156, replace=False)\n",
    "    df_missfits.loc[indices[:78], 'treat'] = 1  # Assign 1 to 78 random rows\n",
    "    df_missfits.loc[indices[78:], 'treat'] = 2  # Assign 2 to another 78 random rows\n",
    "\n",
    "\n",
    "df_missfits = df_missfits.drop(['missfits'], axis = 1)\n",
    "df_missfits['treat'].value_counts()"
   ]
  },
  {
   "cell_type": "code",
   "execution_count": 337,
   "metadata": {},
   "outputs": [],
   "source": [
    "# Some adjustments for binding rows\n",
    "treatment = df_sorted.drop(['missfits', 'control'], axis = 1)\n",
    "control = control.assign(treat = 0).drop(['missfits', 'control'], axis = 1)"
   ]
  },
  {
   "cell_type": "code",
   "execution_count": 338,
   "metadata": {},
   "outputs": [
    {
     "data": {
      "text/plain": [
       "0    60000\n",
       "2    10000\n",
       "1    10000\n",
       "Name: treat, dtype: int64"
      ]
     },
     "execution_count": 338,
     "metadata": {},
     "output_type": "execute_result"
    }
   ],
   "source": [
    "# Concatenate all the dataframes into one\n",
    "\n",
    "df = pd.concat([df_missfits, control, treatment], ignore_index=True)\n",
    "df['treat'].value_counts()"
   ]
  },
  {
   "cell_type": "markdown",
   "metadata": {},
   "source": [
    "### Check the balance between treatment groups"
   ]
  },
  {
   "cell_type": "code",
   "execution_count": 339,
   "metadata": {},
   "outputs": [
    {
     "data": {
      "text/plain": [
       "Index(['CLIENT_ID', 'AGE', 'INCOME', 'SPENDING', 'GENDER', 'TYPE',\n",
       "       'AGE_WINSOR', 'AGE_QUARTILES', 'INCOME_WINSOR', 'INCOME_QUARTILES',\n",
       "       'SPENDING_WINSOR', 'SPENDING_QUARTILES', 'stratum_id', 'stratum_count',\n",
       "       'rows_to_remove', 'treat'],\n",
       "      dtype='object')"
      ]
     },
     "execution_count": 339,
     "metadata": {},
     "output_type": "execute_result"
    }
   ],
   "source": [
    "df.columns"
   ]
  },
  {
   "cell_type": "code",
   "execution_count": 340,
   "metadata": {},
   "outputs": [
    {
     "name": "stdout",
     "output_type": "stream",
     "text": [
      "   Variable  Diff_in_Means_Treat_1  P_Value_Treat_1  Diff_in_Means_Treat_2  \\\n",
      "0       AGE              -0.026342         0.870201              -0.060199   \n",
      "1    INCOME              35.593662         0.949697              77.988612   \n",
      "2  SPENDING             -28.711035         0.847832              26.959248   \n",
      "3    GENDER               0.000217         0.968000              -0.002983   \n",
      "4    TYPE_A               0.000183         0.954829               0.000483   \n",
      "5    TYPE_B              -0.001000         0.732692               0.000200   \n",
      "6    TYPE_C               0.000817         0.588111              -0.000683   \n",
      "\n",
      "   P_Value_Treat_2  \n",
      "0         0.708763  \n",
      "1         0.889658  \n",
      "2         0.857366  \n",
      "3         0.580695  \n",
      "4         0.881156  \n",
      "5         0.945856  \n",
      "6         0.639605  \n"
     ]
    }
   ],
   "source": [
    "import pandas as pd\n",
    "from scipy import stats\n",
    "\n",
    "# Convert GENDER into a binary dummy variable (M: 0, F: 1)\n",
    "df['GENDER'] = df['GENDER'].map({'M': 0, 'F': 1})\n",
    "\n",
    "# Convert TYPE into dummy variables\n",
    "type_dummies = pd.get_dummies(df['TYPE'], prefix='TYPE')\n",
    "df = pd.concat([df, type_dummies], axis=1)\n",
    "\n",
    "\n",
    "# Splitting the DataFrame into control and treatment groups for easier manipulation\n",
    "df_control = df[df['treat'] == 0]\n",
    "df_treat_1 = df[df['treat'] == 1]\n",
    "df_treat_2 = df[df['treat'] == 2]\n",
    "\n",
    "# List of variables to include\n",
    "variables_to_include = ['AGE', 'INCOME', 'SPENDING', 'GENDER'] + [f'TYPE_{c}' for c in df['TYPE'].unique() if pd.notna(c)]\n",
    "\n",
    "# Initialize a DataFrame to hold the balance table results\n",
    "balance_table = pd.DataFrame(columns=['Variable', 'Diff_in_Means_Treat_1', 'P_Value_Treat_1', 'Diff_in_Means_Treat_2', 'P_Value_Treat_2'])\n",
    "\n",
    "for var in variables_to_include:\n",
    "    # Calculate differences in means between the control group and each treatment group\n",
    "    mean_diff_1 = df_treat_1[var].mean() - df_control[var].mean()\n",
    "    mean_diff_2 = df_treat_2[var].mean() - df_control[var].mean()\n",
    "    \n",
    "    # Perform t-tests between the control group and each treatment group\n",
    "    t_stat_1, p_value_1 = stats.ttest_ind(df_treat_1[var].dropna(), df_control[var].dropna(), equal_var=False)\n",
    "    t_stat_2, p_value_2 = stats.ttest_ind(df_treat_2[var].dropna(), df_control[var].dropna(), equal_var=False)\n",
    "    \n",
    "    # Append the results to the balance table\n",
    "    balance_table = balance_table.append({\n",
    "        'Variable': var,\n",
    "        'Diff_in_Means_Treat_1': mean_diff_1,\n",
    "        'P_Value_Treat_1': p_value_1,\n",
    "        'Diff_in_Means_Treat_2': mean_diff_2,\n",
    "        'P_Value_Treat_2': p_value_2\n",
    "    }, ignore_index=True)\n",
    "\n",
    "# Display the balance table\n",
    "print(balance_table)\n",
    "\n",
    "# Assignment is balanced \n"
   ]
  },
  {
   "cell_type": "markdown",
   "metadata": {},
   "source": [
    "### Save dataframe as csv"
   ]
  },
  {
   "cell_type": "markdown",
   "metadata": {},
   "source": [
    "We likely want to save two different dataframes. The first will include all the information we have, since it will be useful when evaluating the experiment's results. The second will include only CLIENT_ID and treat, which is useful to execute the experiment.\n",
    "\n",
    "Note: If the control is pure, it might be a good idea to exclude the control group from the execution dataframe, so as to avoid mistakes."
   ]
  },
  {
   "cell_type": "code",
   "execution_count": 342,
   "metadata": {},
   "outputs": [],
   "source": [
    "df.to_csv('Data/experiment_universe_full.csv', index = False)"
   ]
  },
  {
   "cell_type": "code",
   "execution_count": 346,
   "metadata": {},
   "outputs": [],
   "source": [
    "df[df['treat'] != 0][['CLIENT_ID', 'treat']].to_csv('Data/experiment_treatment_groups.csv', index = False)"
   ]
  }
 ],
 "metadata": {
  "kernelspec": {
   "display_name": "Python 3",
   "language": "python",
   "name": "python3"
  },
  "language_info": {
   "codemirror_mode": {
    "name": "ipython",
    "version": 3
   },
   "file_extension": ".py",
   "mimetype": "text/x-python",
   "name": "python",
   "nbconvert_exporter": "python",
   "pygments_lexer": "ipython3",
   "version": "3.8.5"
  }
 },
 "nbformat": 4,
 "nbformat_minor": 4
}
